{
 "cells": [
  {
   "cell_type": "code",
   "execution_count": 11,
   "metadata": {},
   "outputs": [],
   "source": [
    "from TwitterSearch import *\n",
    "import json"
   ]
  },
  {
   "cell_type": "code",
   "execution_count": 12,
   "metadata": {},
   "outputs": [],
   "source": [
    "dn={}"
   ]
  },
  {
   "cell_type": "code",
   "execution_count": 33,
   "metadata": {},
   "outputs": [
    {
     "name": "stdout",
     "output_type": "stream",
     "text": [
      "@03luis_ \n",
      "Quando um professor homofóbico destila seu veneno nas redes sociais a #Unipampa não faz nada. Quando um professor t… https://t.co/UehFkvyrOT\n",
      "@alberidias \n",
      "Estudante da Unipampa era natural da Bahia.\n",
      "@lelahta \n",
      "@EmanuelleRighi Fico pensando como iriam reagir se a manchete fosse \"Unipampa mata estudante\".\n",
      "@EmanuelleRighi \n",
      "@lelahta Sei que não vai adiantar, mas a raiva que sinto pela Unipampa ter tapado o sol com a peneira\n",
      "@lelahta \n",
      "E o fato ocorrido no ano passado, todo mundo sabe o quão péssimo foi. As atitudes que a Unipampa teve também (negli… https://t.co/Urv4QLTv1L\n",
      "@lelahta \n",
      "A família da Raio morava numa cidade que fica bem do lado de Guarulhos. Sei um pouco da luta dela pra estar ali na… https://t.co/e7lwDhgZaG\n",
      "@Amoeba_ddl \n",
      "A menina da unipampa que foi assediada, foi encontrada morta hoje\n",
      "@paulohsmazevedo \n",
      "RT @felipecarpes: Lançamos o site do X Simpósio em Neuromecânica Aplicada, que acontecerá de 25 a 28 de Setembro. Confere todos os detalhes…\n",
      "@leotartaruga \n",
      "RT @felipecarpes: Lançamos o site do X Simpósio em Neuromecânica Aplicada, que acontecerá de 25 a 28 de Setembro. Confere todos os detalhes…\n",
      "@felipecarpes \n",
      "Lançamos o site do X Simpósio em Neuromecânica Aplicada, que acontecerá de 25 a 28 de Setembro. Confere todos os de… https://t.co/4lGccr9YDG\n",
      "@antoniense \n",
      "E ontem que eu e umas personalidades da Unipampa fomos expulsos do porto por uso DAQUELA substância.\n",
      "@jurobertt \n",
      "RT @iarabfr: Segunda filha da minha mãe que sai de casa... essa para mais longe, sozinha e longe de todos... mas, que volte mais formada do…\n",
      "@iarabfr \n",
      "Segunda filha da minha mãe que sai de casa... essa para mais longe, sozinha e longe de todos... mas, que volte mais… https://t.co/yZUDAy6dej\n",
      "@estefany_rb \n",
      "Gostaria de poder optar em não voltar pra sg e nem pra unipampa\n",
      "@grnathh \n",
      "RT @annapauladts: preciso de um open bar e só a Unipampa poderá me salvar\n",
      "@annapauladts \n",
      "preciso de um open bar e só a Unipampa poderá me salvar\n",
      "@dudusampaio__ \n",
      "É pedir muito sera a Unipampa ser aqui? Quero voltar mais não\n",
      "@edu_leitor \n",
      "RT @jprmiranda: Concurso público: Inscrições abertas para seleção de professores https://t.co/7Lu6nlb3A8 via @twitterdev\n",
      "@jprmiranda \n",
      "Concurso público: Inscrições abertas para seleção de professores https://t.co/7Lu6nlb3A8 via @twitterdev\n",
      "@dudaperinn \n",
      "GALERA algum veterano de pp da Unipampa me chama na dm rapidão, tem um amigo meu que é bixo e está perdidinho precisando de um help de vet\n"
     ]
    },
    {
     "ename": "KeyboardInterrupt",
     "evalue": "",
     "output_type": "error",
     "traceback": [
      "\u001b[1;31m---------------------------------------------------------------------------\u001b[0m",
      "\u001b[1;31mKeyboardInterrupt\u001b[0m                         Traceback (most recent call last)",
      "\u001b[1;32m<ipython-input-33-fb9878afeaf4>\u001b[0m in \u001b[0;36m<module>\u001b[1;34m\u001b[0m\n\u001b[0;32m     19\u001b[0m         \u001b[0mconteudo\u001b[0m\u001b[1;33m.\u001b[0m\u001b[0mappend\u001b[0m\u001b[1;33m(\u001b[0m\u001b[0mdn\u001b[0m\u001b[1;33m)\u001b[0m \u001b[1;31m# insira seu conteúdo\u001b[0m\u001b[1;33m\u001b[0m\u001b[1;33m\u001b[0m\u001b[0m\n\u001b[0;32m     20\u001b[0m         \u001b[0marquivo\u001b[0m \u001b[1;33m=\u001b[0m \u001b[0mopen\u001b[0m\u001b[1;33m(\u001b[0m\u001b[1;34m'dados.json'\u001b[0m\u001b[1;33m,\u001b[0m \u001b[1;34m'w'\u001b[0m\u001b[1;33m)\u001b[0m \u001b[1;31m# Abre novamente o arquivo (escrita)\u001b[0m\u001b[1;33m\u001b[0m\u001b[1;33m\u001b[0m\u001b[0m\n\u001b[1;32m---> 21\u001b[1;33m         \u001b[0marquivo\u001b[0m\u001b[1;33m.\u001b[0m\u001b[0mwritelines\u001b[0m\u001b[1;33m(\u001b[0m\u001b[0mstr\u001b[0m\u001b[1;33m(\u001b[0m\u001b[0mconteudo\u001b[0m\u001b[1;33m)\u001b[0m\u001b[1;33m)\u001b[0m \u001b[1;31m# escreva o conteúdo criado anteriormente nele.\u001b[0m\u001b[1;33m\u001b[0m\u001b[1;33m\u001b[0m\u001b[0m\n\u001b[0m\u001b[0;32m     22\u001b[0m \u001b[1;33m\u001b[0m\u001b[0m\n\u001b[0;32m     23\u001b[0m            \u001b[1;31m# arquivo.write(json.dumps(dn))\u001b[0m\u001b[1;33m\u001b[0m\u001b[1;33m\u001b[0m\u001b[1;33m\u001b[0m\u001b[0m\n",
      "\u001b[1;31mKeyboardInterrupt\u001b[0m: "
     ]
    }
   ],
   "source": [
    "try:\n",
    "\n",
    "    ts = TwitterSearch(\n",
    "        consumer_key = 'IMJh4kjQLGDzUaT9t1v0RXm5Y',\n",
    "        consumer_secret = 'cjt9d684CpvElXof1BxUMgSakNnFBVLDweQTSpGZolzzrnU8JE',\n",
    "        access_token = '968521944944529408-oI5NcJVaZellwrsPjhsQkQPDeAZJzKf',\n",
    "        access_token_secret = 'hc7bTI65fG97smD3ZEB6iCjLrBzHBxn2Sp6TIaX8fZSJZ'\n",
    "     )\n",
    "    tso = TwitterSearchOrder()\n",
    "    tso.set_keywords(['unipampa'])\n",
    "    tso.set_language('pt')\n",
    "   # with open('dados.json','w') as arquivo:\n",
    "    for tweet in ts.search_tweets_iterable(tso):\n",
    "        dn.update({\"created_at\":tweet['user']['screen_name'], \"text\":tweet['text']})\n",
    "        print( '@%s ' % (tweet['user']['screen_name']))\n",
    "        print( '%s' % (tweet['text']))\n",
    "        arquivo = open('dados.json', 'r') # Abra o arquivo (leitura) \n",
    "        conteudo = arquivo.readlines()\n",
    "        conteudo.append(dn) # insira seu conteúdo \n",
    "        arquivo = open('dados.json', 'w') # Abre novamente o arquivo (escrita) \n",
    "        arquivo.writelines(str(conteudo)) # escreva o conteúdo criado anteriormente nele. \n",
    "        \n",
    "           # arquivo.write(json.dumps(dn))\n",
    "            \n",
    "            #print( '@%s tweeted: %s' % ( tweet['user']['screen_name'], tweet['text'] ) )\n",
    "\n",
    "except TwitterSearchException as e:\n",
    "    print(e)"
   ]
  },
  {
   "cell_type": "code",
   "execution_count": null,
   "metadata": {},
   "outputs": [],
   "source": [
    "\n"
   ]
  },
  {
   "cell_type": "code",
   "execution_count": 99,
   "metadata": {},
   "outputs": [
    {
     "data": {
      "text/plain": [
       "dict"
      ]
     },
     "execution_count": 99,
     "metadata": {},
     "output_type": "execute_result"
    }
   ],
   "source": [
    "type(dn)"
   ]
  },
  {
   "cell_type": "code",
   "execution_count": 26,
   "metadata": {},
   "outputs": [
    {
     "data": {
      "text/plain": [
       "'\"{\\'created_at\\': \\'Rezende_Fil\\', \\'text\\': \\'Marselan feelings...\\\\ud83c\\\\udf47\\\\ud83c\\\\udf77\\\\ud83d\\\\udc9c\\\\ud83c\\\\udde7\\\\ud83c\\\\uddf7 #unipampa \\\\u00e0 Universidade Federal do Pampa -  Dom Pedrito https://t.co/knKe2VgVv6\\'}\"'"
      ]
     },
     "execution_count": 26,
     "metadata": {},
     "output_type": "execute_result"
    }
   ],
   "source": [
    "json.dumps(d)"
   ]
  },
  {
   "cell_type": "code",
   "execution_count": 27,
   "metadata": {},
   "outputs": [],
   "source": [
    "# Criando um arquivo Json\n",
    "with open('dados.json','w') as arquivo:\n",
    "    arquivo.write(json.dumps(dn))"
   ]
  },
  {
   "cell_type": "code",
   "execution_count": 28,
   "metadata": {},
   "outputs": [],
   "source": [
    "# Leitura de arquivos Json\n",
    "\n",
    "with open('dados.json','r') as arquivo:\n",
    "    texto = arquivo.read()\n",
    "    data = json.loads(texto)"
   ]
  },
  {
   "cell_type": "code",
   "execution_count": 29,
   "metadata": {},
   "outputs": [
    {
     "name": "stdout",
     "output_type": "stream",
     "text": [
      "{'created_at': 'Rezende_Fil', 'text': 'Marselan feelings...🍇🍷💜🇧🇷 #unipampa à Universidade Federal do Pampa -  Dom Pedrito https://t.co/knKe2VgVv6'}\n"
     ]
    }
   ],
   "source": [
    "print(d)"
   ]
  },
  {
   "cell_type": "code",
   "execution_count": null,
   "metadata": {},
   "outputs": [],
   "source": []
  },
  {
   "cell_type": "code",
   "execution_count": null,
   "metadata": {},
   "outputs": [],
   "source": []
  },
  {
   "cell_type": "code",
   "execution_count": null,
   "metadata": {},
   "outputs": [],
   "source": []
  },
  {
   "cell_type": "code",
   "execution_count": 30,
   "metadata": {},
   "outputs": [
    {
     "name": "stdout",
     "output_type": "stream",
     "text": [
      "{'created_at': 'Rezende_Fil', 'text': 'Marselan feelings...🍇🍷💜🇧🇷 #unipampa à Universidade Federal do Pampa -  Dom Pedrito https://t.co/knKe2VgVv6'}\n"
     ]
    }
   ],
   "source": [
    "\n",
    "print (data)"
   ]
  },
  {
   "cell_type": "code",
   "execution_count": 31,
   "metadata": {},
   "outputs": [],
   "source": [
    "import pandas as pd"
   ]
  },
  {
   "cell_type": "code",
   "execution_count": 44,
   "metadata": {},
   "outputs": [
    {
     "data": {
      "text/plain": [
       "{'paulohsmazevedo': 'RT @felipecarpes: Lançamos o site do X Simpósio em Neuromecânica Aplicada, que acontecerá de 25 a 28 de Setembro. Confere todos os detalhes…',\n",
       " 'leotartaruga': 'RT @felipecarpes: Lançamos o site do X Simpósio em Neuromecânica Aplicada, que acontecerá de 25 a 28 de Setembro. Confere todos os detalhes…',\n",
       " 'felipecarpes': 'Lançamos o site do X Simpósio em Neuromecânica Aplicada, que acontecerá de 25 a 28 de Setembro. Confere todos os de… https://t.co/4lGccr9YDG',\n",
       " 'antoniense': 'E ontem que eu e umas personalidades da Unipampa fomos expulsos do porto por uso DAQUELA substância.',\n",
       " 'jurobertt': 'RT @iarabfr: Segunda filha da minha mãe que sai de casa... essa para mais longe, sozinha e longe de todos... mas, que volte mais formada do…',\n",
       " 'iarabfr': 'Segunda filha da minha mãe que sai de casa... essa para mais longe, sozinha e longe de todos... mas, que volte mais… https://t.co/yZUDAy6dej',\n",
       " 'estefany_rb': 'Gostaria de poder optar em não voltar pra sg e nem pra unipampa',\n",
       " 'grnathh': 'RT @annapauladts: preciso de um open bar e só a Unipampa poderá me salvar',\n",
       " 'annapauladts': 'preciso de um open bar e só a Unipampa poderá me salvar',\n",
       " 'dudusampaio__': 'É pedir muito sera a Unipampa ser aqui? Quero voltar mais não',\n",
       " 'edu_leitor': 'RT @jprmiranda: Concurso público: Inscrições abertas para seleção de professores https://t.co/7Lu6nlb3A8 via @twitterdev',\n",
       " 'jprmiranda': 'Concurso público: Inscrições abertas para seleção de professores https://t.co/7Lu6nlb3A8 via @twitterdev',\n",
       " 'dudaperinn': 'GALERA algum veterano de pp da Unipampa me chama na dm rapidão, tem um amigo meu que é bixo e está perdidinho precisando de um help de vet',\n",
       " 'paivavicc': 'melhor comentario de ontem \"ala é a crush da unipampa\" kkkkkkkkkk carnaval eh isso',\n",
       " 'Rezende_Fil': \"Tannat's vineyard from Campanha Gaúcha's region 🍇🇧🇷💜🍷 #oenologystudent #unipampa #vindima #brazil #bresil #vin… https://t.co/cw7GCrImAs\",\n",
       " 'mimosanath': 'To irritada com o site da unipampa já',\n",
       " 'emptyxs': 'Ainda perdi o ônibus da corte\\nMorri em 26 reais de táxi, q eu desci na frente da unipampa ainda, se tivesse me deix… https://t.co/OQT6In5xtH',\n",
       " 'marivnws': 'RT @bohisara: ATENÇÃO ALUNOS DA UNIPAMPA SG\\no guardinha da noite acabou de me avisar q levaram os gansos pra uma chácara PQ ELES TAVAM CAGA…',\n",
       " 'LUCAXXXX3': '@ahpulcinelle Que dia sai que a UNIPAMPA deferiu os documentos?',\n",
       " 'mari_bdiel': 'Quem puder ajudar 🙏\\nhttps://t.co/Rx9cBQOOjj',\n",
       " 'Tats_Coelho': 'O negócio da Unipampa diz que eu sou natural de Alegrete \\n \\nQUE????',\n",
       " 'grissoncuja': 'RT @bohisara: ATENÇÃO ALUNOS DA UNIPAMPA SG\\no guardinha da noite acabou de me avisar q levaram os gansos pra uma chácara PQ ELES TAVAM CAGA…',\n",
       " 'bohisara': '00:24\\nmais dedicados do q eu e meu time sabadando no laboratório na unipampa terminando experimento?',\n",
       " '_qdbk': 'e não é q vai sair o bloquinho da Unipampa 🎭',\n",
       " 'UnipampaOficial': 'Já está disponível o Resultado Provisório das Solicitações de Matrícula dos(as) selecionados(as) na 2ª Convocação d… https://t.co/Irsq7kKhlX',\n",
       " 'emersonrizzatti': 'Concurso Público para Professor na área de Engenharia de Software na UNIPAMPA (campus Alegrete). https://t.co/pMG1Vfln1s',\n",
       " '_Edgeend': 'Espero q na Unipampa de SG só tenha viado e sapatao',\n",
       " 'rodrigo_cururu': 'Alugo uma casa, no Bairro Promorar/Ibirapuitã, próximo a Unipampa. Somente para estudantes ou casal. Direto com o d… https://t.co/hrQOh1XslF',\n",
       " 'PatriickFariia': 'mt mao pra confirmar matricila na unipampa, precisa de várias coisas',\n",
       " 'fabiogiacomelli': 'Alô amigos e colegas com doutorado, tem concurso para professor efetivo de Jornalismo na Universidade Federal do Pa… https://t.co/PdKM4MYJBu',\n",
       " 'de_04a': 'Março começou com a UNIPAMPA pagando as bolsas atrasadas e consequentemente eu tendo dinheiro para ter teto e comid… https://t.co/4BS0yEZYSs',\n",
       " 'anapgrciax': 'abri meu email e as coisa da unipampa tá tudo indo pro spam eu considero isso um sinal',\n",
       " 'pqpeugenio': 'E a Unipampa que depositou as duas bolsas justo na sexta de carnaval, socorro',\n",
       " 'Fishinh0': 'Não vai ter eu indo pra Unipampa https://t.co/FID115o8Hj',\n",
       " 'leo_kuwer': 'Uma das coisas chatas de se ver, de quem é de outras cidades e estuda na UNIPAMPA é na fala e na escrita eles não s… https://t.co/e8AY0efiA4',\n",
       " 'laisabelle_': '@yasminmourx ai desde q não me assaltem em MEIA quadra até a unipampa ta de boa kkkjkekdkdkd',\n",
       " 'yasminialuny': '@kellneralecrim @brumsaraiva Opa! É pra juntar a Unipampa ?',\n",
       " 'ChrxsCxssxl': 'bah e eu q sou BIXO HISTÓRIA UNIPAMPA 2019',\n",
       " 'ViishBorges': 'Gente, sou BIXO Gestão Ambiental UNIPAMPA 2019... SOCORRO @DEUS',\n",
       " 'guanebm': 'Tão entediada que já tô começando a sentir falta da unipampa',\n",
       " 'Herickr017': 'PROCURO KITNET EM ALEGRETE PERTO DA UNIPAMPA, ME AJUDEEEEEM',\n",
       " 'ahpulcinelle': 'ai mandando meus papéis p unipampa e chorando',\n",
       " 'yasdinomin': '@joauzera SIMM, quartinho aconchegante, fotinhos e Unipampa hauhauahau ❤❤',\n",
       " 'edwigespcampos': 'O que tô realmente sentindo saudade da Unipampa é do Sr. Vanderlei pela parte da manhã/tarde, do Sr. Jessé de tarde… https://t.co/Wfa2C0h5mu',\n",
       " 'HoffmannLavynia': 'o bom é que eu olho pra @Babi_Oll e digo \"que tal ir só as 10h pra unipampa amanhã?\"  e ela topa de boassa kkkkkkkk',\n",
       " 'Dooug_Alm': 'eu to tentando faz meia hora mudar a senha do portal da facul e não consigo achar uma senha que preste unipampa pq… https://t.co/9F2gfOuIzy',\n",
       " 'lelahta': 'me peguei olhando essa belezinha chamada MEU TCC\\n\\nhttps://t.co/TJ4wS2nhik',\n",
       " 'lais_fink': 'alo alo Unipampa disponibiliza minhas cadeirass',\n",
       " 'marimirailh': '@MartinsBrenda_ @gabitchm Oi vamo, aí @unipampa nos ajuda pfv',\n",
       " 'gabitchm': '@marimirailh já quero, unipampa pq me mataste sem enfermagem em livramento',\n",
       " 'LuliKaefer': 'Eu sou oficialmente Bixo na Unipampa hehehehehhe',\n",
       " 'Th3lovec4ts': 'Que difícil trocar a senha desse portal da unipampa velho',\n",
       " 'kau3li': 'Esse sistema da UNIPAMPA vsf meu, deixa os alunos louco',\n",
       " 'alemaozinhuSant': 'Tchê to numa ansiedade pra saber se vou ser chamado ou não, na unipampa ! 🙏😶',\n",
       " 'IntersecaoVest': 'Parabenizamos a nossa querida aluna, Nuirá Stängle, aprovada em Ciências Políticas na Unipampa - RS e em Direito na… https://t.co/ICuTdxRJAB',\n",
       " 'sobutka_adriele': 'Se a Unipampa e a UFSC soubessem o tanto que eu quero estudar lá, me davam uma vaga sem precisar de vestibular.',\n",
       " 'cibelledamotta': 'eu to muito triste que o louco mais escroto da unipampa resolveu passar pra RI e ser meu bixo',\n",
       " 'whoishelena': 'alô unipampa https://t.co/EbhFWz8FkK',\n",
       " 'amgjulia': 'sou bixo ciências biológicas unipampa..... entro ou nem?',\n",
       " 'marjorieblancf': 'Eu queria entender pq a unipampa não me manda logo o e-mail com os meus horários, preciso fingir que sou uma pessoa organizada',\n",
       " 'alizigomes': 'RT @leticiamartt: Em formação um pré trote épico da Unipampa no semestre de agosto 😛',\n",
       " 'zart_lucas': '@alteridad3 coragem, pobre unipampa 🙄',\n",
       " 'Ivana__': 'Já quero uma parede assim, como todos os doguinhos da Unipampa 😍 https://t.co/Sj4mwW9KUp',\n",
       " 'MTbatsII': '@giovana_perini Oii Giovana, meus parabéns! Eu sou veterano do curso de História da Unipampa, temos um grupo no fb… https://t.co/10h2PypvMt',\n",
       " '_luanbento': '@rafasouza1122 AGORA QUE EU SAÍ DA UNIPAMPA TA QUEIMANDO O QUENGARAL',\n",
       " 'meu_pudinzinho': 'Cara eu passei na unipampa se não fosse a @isadornelles007 me dizer eu nem ia ter visto',\n",
       " 'CarpesLuiza': 'Tão vendo esse neném aqui? Ele é o mais novo BIXO ENGENHARIA DE ENERGIA- UNIPAMPA AAAAAAA\\nNão sei nem explicar o qu… https://t.co/y9WW1ETTeT',\n",
       " 'LucasCosteira_': 'nao tem uma vaga pra engenharia de computaçao na unipampa de bage 😔😔 vou me obrigar a fazer esse agronegocio ate conseguir troca que chavee',\n",
       " 'vampirodaruaxv': 'RT @alemaozinhuSant: Tchê to numa ansiedade pra saber se vou ser chamado ou não, na unipampa ! 🙏😶',\n",
       " 'mimis137': 'RT @Rafassilv4: Tô só o bicho da Unipampa hoje',\n",
       " 'lika_gumisson': 'Boa noite p qm é bixo eng. quimica- unipampa Bagé',\n",
       " 'barbaraujop': 'Feliz por ter passado em Engenharia de Software na Unipampa, triste por não ter como ir',\n",
       " 'alteridad3': 'passei pra história na unipampa e estou em choque...',\n",
       " 'tabordafran_': 'BIXO 2019 AQUICULTURA-UNIPAMPA URUGUAIANA \\nDEUS É BOM O TEMPO TODOOOO',\n",
       " 'giovana_perini': 'BIXO HISTÓRIA - UNIPAMPA (JAGUARÃO-RS) #orgulhodamarli',\n",
       " '_DanielLago': 'Os cara da Unipampa erraram minha nota, até nisso eu sou infeliz',\n",
       " 'gabrxt': 'MEU CU QUE EU PASSEI NA UNIPAMPA MEU DEUS',\n",
       " 'luisaprwdo': 'kd os resultados da unipampa\\nou ja saiu e eu sou mto burra q nao achei??????',\n",
       " 'kjdsverse': 'O PIETRO PASSOU EM ENGENHARIA NA UNIPAMPA E EU NÃO PODERIA TÁ MAIS ORGULHOSA https://t.co/PiExSuiHuW',\n",
       " 'pessanha_debora': 'RT @guifselarin: Queria tanto passar na Unipampa, seria pedir muito ? Kkkk',\n",
       " 'rayglabarbosa': 'To lendo o edital e não entendi se o resultado sai hoje ou preciso ir fazer pessoalmente o nome na lista na própria unipampa. Heeeeeeelp',\n",
       " 'katharinparc_': 'Oiie sabe me dizer quando começam as aulas na unipampa? Ou se já começaram... enfim hahahahaha obrigado desde já 💓… https://t.co/NfsX7uujPr',\n",
       " 'anaprr1': 'Já perdi as contas de quantas vezes entrei no site da unipampa pra ver o resultado do processo, porém até agora não… https://t.co/OwL9OYxAgP',\n",
       " 'xotourzayn': 'esperando sair a lista da unipampa todo o dia n aguento mais',\n",
       " 'leticiamartt': 'Em formação um pré trote épico da Unipampa no semestre de agosto 😛',\n",
       " 'jadisonaquino': 'Com a Carmela ganhando o edital pra ser prof da Unipampa fica decretado oficialmente que eu saio da Urcamp, mas a Urcamp não sai de mim.',\n",
       " 'wolffingrid_': 'Unipampa ainda vai me matar',\n",
       " 'tudealmeida': 'https://t.co/AXlZlJa7id\\n\\nAlguém consegue baixar esse artigo e me enviar? Não consigo fazer isso pela conexão da unipampa',\n",
       " 'isadxrneles': 'RT @Cukin77: esse brother ta precisando de ajuda pra voltar pra nossa cidade e voltar os estudos na unipampa, cara humilde e gente boa, sem…',\n",
       " 'lenticiapxschi': '@gaabv_ Ainda.... Espera passar na Unipampa shshhshsha',\n",
       " 'gabksqq': 'Não aguento mais esperar pela unipampa',\n",
       " 'Babi_Oll': 'RT @Cukin77: esse brother ta precisando de ajuda pra voltar pra nossa cidade e voltar os estudos na unipampa, cara humilde e gente boa, sem…',\n",
       " '_wtfgreg': 'Já fiz minha matrícula na Unipampa',\n",
       " 'andreaSMedeiro': 'RT @Cukin77: esse brother ta precisando de ajuda pra voltar pra nossa cidade e voltar os estudos na unipampa, cara humilde e gente boa, sem…',\n",
       " 'joauzera': 'RT @yasdinomin: @joauzera SIMM, quartinho aconchegante, fotinhos e Unipampa hauhauahau ❤❤',\n",
       " 'VickArielle': 'Sinto que vou ir atoa na Unipampa',\n",
       " 'Beatriz40584': 'Até lá não vou conseguir ir no ônibus pra unipampa que infernoooooo',\n",
       " 'mirelaxdavila': 'RT @miffagundes: Coutinho é um cara firmeza do RJ que faz faculdade na UNIPAMPA de Alegrete, e esse ano tá passando por uma situação financ…',\n",
       " 'ivanacs_': 'Me ajuda! O que parece com Unipampa ou UFSM? https://t.co/HOXCgG2kEy',\n",
       " 'Rafassilv4': 'Tô só o bicho da Unipampa hoje',\n",
       " 'elfagotica_': 'hj sai o resultado da Unipampa estou nervosa',\n",
       " 'Ariel_Maaseias': 'RT @Cukin77: esse brother ta precisando de ajuda pra voltar pra nossa cidade e voltar os estudos na unipampa, cara humilde e gente boa, sem…',\n",
       " 'gabyguterres3': 'RT @Cukin77: esse brother ta precisando de ajuda pra voltar pra nossa cidade e voltar os estudos na unipampa, cara humilde e gente boa, sem…',\n",
       " 'miffagundes': 'Coutinho é um cara firmeza do RJ que faz faculdade na UNIPAMPA de Alegrete, e esse ano tá passando por uma situação… https://t.co/7OrU4y3A7n',\n",
       " 'mariajoannacf': 'RT @Cukin77: esse brother ta precisando de ajuda pra voltar pra nossa cidade e voltar os estudos na unipampa, cara humilde e gente boa, sem…',\n",
       " 'bardemakerv': 'RT @Cukin77: esse brother ta precisando de ajuda pra voltar pra nossa cidade e voltar os estudos na unipampa, cara humilde e gente boa, sem…',\n",
       " 'marinaotokk': 'RT @Cukin77: esse brother ta precisando de ajuda pra voltar pra nossa cidade e voltar os estudos na unipampa, cara humilde e gente boa, sem…',\n",
       " 'deboramedr': 'RT @Cukin77: esse brother ta precisando de ajuda pra voltar pra nossa cidade e voltar os estudos na unipampa, cara humilde e gente boa, sem…',\n",
       " 'mariarzarate': 'Alguém da Unipampa de urug sabe me informar se vai abrir o ru esse semestre??',\n",
       " 'Cukin77': 'esse brother ta precisando de ajuda pra voltar pra nossa cidade e voltar os estudos na unipampa, cara humilde e gen… https://t.co/qwzZbw5HQc',\n",
       " 'scks_anaju': 'estudantes da unipampa com o auxílio atrasado enquanto os deputados recebem auxílio-mudança \\n\\n16 MILHÕES GASTOS',\n",
       " 'camilladepauIi': 'unico dia q vou ter q passa todinho na unipampa é nas quartas',\n",
       " 'Lorenzotaz': 'Mas poc bonita eu só via na unipampa',\n",
       " 'nunes_marcielli': 'Digam olá pra mais nova Universitária de direito da unipampa aaaaaaaaaaah',\n",
       " 'fpmadu': 'fui na Unipampa fazer minha matrícula e levei a dona Mari',\n",
       " 'Cammargu': 'ai meu último rolezao é Carnaval, dps rolê só na unipampa',\n",
       " 'Pizzutti_L': 'Último dia pra se inscrever na unipampa por nota do Enem (vale 2012 até 2019). Indico, mas não tanto, pense bem',\n",
       " '_camiladiasp': '@Rafaela_M19 a unipampa me obriga a beber kkkkkkkkkk',\n",
       " 'BelovedNico': 'fui naquela faculdade atoa aaaaa\\nvai se fuder Unipampa',\n",
       " 'mcardoz_o': 'Solicitei 6 cadeiras e me aceitaram em 2, unipampa ta de sacanagem',\n",
       " 'nevercomehome_': 'Sair de sg pra encontrar o povo da unipampa em poa é foda',\n",
       " 'corridasderuars': 'RÚSTICA UNIPAMPA\\nDia 24 de março em São Gabriel/RS.\\nConfira o calendário completo: https://t.co/0PlKDNhbt5… https://t.co/5OZZ70Upom',\n",
       " 'HenriqKunzler': 'Existe pessoas bonitas e pessoas nível Unipampa que é o mais elevado patamar',\n",
       " 'amandtsk': 'BIXO AGRONOMIA UNIPAMPA PORRA\\nMEU MOMENTO CHEGOOOOO',\n",
       " 'opsjeann': 'Organizar a junção dos bixos da unipampa tá me consumindo, mas vai ser muito louca 🚀',\n",
       " 'alicepelizzaro': 'Ajuste presencial de matrícula da UNIPAMPA é pior que a fila do SUS',\n",
       " 'moonloulights': 'RT @ssongsix: oi gente, caso vc tenha feito o enem e nao tenha passado no sisu mas ainda queira começar a facul esse ano, a UNIPAMPA e a UE…',\n",
       " 'lwtisthesun': 'RT @ssongsix: oi gente, caso vc tenha feito o enem e nao tenha passado no sisu mas ainda queira começar a facul esse ano, a UNIPAMPA e a UE…',\n",
       " 'bylucasmachado': '#MeuPresidente criou a Unipampa na minha cidade natal e deixou o governo com 82% de aprovação. Salve @LulaOficial, Nobel da Paz.',\n",
       " 'Ratio1968': 'MEC faça o repasse financeiro para bolsistas da Unipampa para que não haja abandono. https://t.co/fwKiq9Dndz',\n",
       " 'ringsforharry': 'RT @ssongsix: oi gente, caso vc tenha feito o enem e nao tenha passado no sisu mas ainda queira começar a facul esse ano, a UNIPAMPA e a UE…',\n",
       " 'ssongsix': 'oi gente, caso vc tenha feito o enem e nao tenha passado no sisu mas ainda queira começar a facul esse ano, a UNIPA… https://t.co/1zhtC2luyZ',\n",
       " 'blessedroden': 'RT @ssongsix: oi gente, caso vc tenha feito o enem e nao tenha passado no sisu mas ainda queira começar a facul esse ano, a UNIPAMPA e a UE…',\n",
       " 'Tony15Supimpa': 'Stalkeando os bixos da Unipampa p ver se arranjo algum amigo por lá kk',\n",
       " 'AvellarOvidio': '@LiviaMeireles_ vem pra Unipampa',\n",
       " 'carolinemds': 'O grupo de ingressantes da Unipampa tem DOIS DIAS e as madame que NEM SE CONHECEM já tão brigando PELO AMOR DE DEUS',\n",
       " 'sonecadorole': '@konichiwabixa Vou colar com os farmacêutico da Unipampa agora',\n",
       " 'Portal_J3': 'Poderão participar das inscrições quaisquer pessoas que tenham feito o ENEM 2012, 2013, 2014, 2015, 2016, 2017 ou 2… https://t.co/yFBXT0KaIK',\n",
       " 'debiborges': 'Já fiz tanto milagre com 410 reais, dinheiro esse que tive a infeliz notícia que fui desligada sem saber dos auxíli… https://t.co/6OJYAaLEUt',\n",
       " 'Rafaela_M19': 'PQ É TAO DIFICIL ACHAR OS MEUS BIXOSSS, galera que passou em economia na unipampa pelo amor de deusssssssss CADÊ VCS',\n",
       " 'charlescarpes': 'Inscrições abertas até segunda 25/02 para entrar na Unipampa. Mais de 50 cursos de graduação gratuitos. Compartilhe… https://t.co/YJrVBWMR9t',\n",
       " 'laiismatoss': 'torcendo pra dar de vir a Torres no balonismo, unipampa colabore cmg 🙏🏻'}"
      ]
     },
     "execution_count": 44,
     "metadata": {},
     "output_type": "execute_result"
    }
   ],
   "source": [
    "data"
   ]
  },
  {
   "cell_type": "code",
   "execution_count": null,
   "metadata": {},
   "outputs": [],
   "source": [
    "print()"
   ]
  }
 ],
 "metadata": {
  "kernelspec": {
   "display_name": "Python 3",
   "language": "python",
   "name": "python3"
  },
  "language_info": {
   "codemirror_mode": {
    "name": "ipython",
    "version": 3
   },
   "file_extension": ".py",
   "mimetype": "text/x-python",
   "name": "python",
   "nbconvert_exporter": "python",
   "pygments_lexer": "ipython3",
   "version": "3.7.1"
  }
 },
 "nbformat": 4,
 "nbformat_minor": 2
}
